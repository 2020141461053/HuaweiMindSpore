{
 "cells": [
  {
   "cell_type": "code",
   "execution_count": 1,
   "id": "79e5afaa",
   "metadata": {},
   "outputs": [],
   "source": [
    "import mindspore\n",
    "import time\n",
    "from mindspore import nn\n",
    "from mindspore import ops\n",
    "from mindspore.dataset import vision, transforms\n",
    "from mindspore.dataset import Cifar10Dataset"
   ]
  },
  {
   "cell_type": "code",
   "execution_count": 2,
   "id": "6dd38d62",
   "metadata": {},
   "outputs": [],
   "source": [
    "import mindspore.context as context\n",
    "context.set_context(device_target=\"GPU\")"
   ]
  },
  {
   "cell_type": "code",
   "execution_count": 3,
   "id": "271063a4",
   "metadata": {},
   "outputs": [
    {
     "data": {
      "text/plain": [
       "'\\nfrom download import download\\n\\nurl = \"https://mindspore-website.obs.cn-north-4.myhuaweicloud.com/\"       \"notebook/datasets/cifar10.zip\"\\npath = download(url, \"./\", kind=\"zip\", replace=True)\\n'"
      ]
     },
     "execution_count": 3,
     "metadata": {},
     "output_type": "execute_result"
    }
   ],
   "source": [
    "# Download data from open datasets\n",
    "'''\n",
    "from download import download\n",
    "\n",
    "url = \"https://mindspore-website.obs.cn-north-4.myhuaweicloud.com/\" \\\n",
    "      \"notebook/datasets/cifar10.zip\"\n",
    "path = download(url, \"./\", kind=\"zip\", replace=True)\n",
    "'''"
   ]
  },
  {
   "cell_type": "code",
   "execution_count": 4,
   "id": "f9a018d0",
   "metadata": {},
   "outputs": [],
   "source": [
    "train_dataset = Cifar10Dataset('cifar10/train')\n",
    "test_dataset = Cifar10Dataset('cifar10/test')"
   ]
  },
  {
   "cell_type": "code",
   "execution_count": 5,
   "id": "45d0fc94",
   "metadata": {},
   "outputs": [
    {
     "name": "stdout",
     "output_type": "stream",
     "text": [
      "['image', 'label']\n"
     ]
    }
   ],
   "source": [
    "print(train_dataset.get_col_names())"
   ]
  },
  {
   "cell_type": "code",
   "execution_count": 6,
   "id": "3ac11027",
   "metadata": {},
   "outputs": [],
   "source": [
    "def datapipe(dataset, batch_size):\n",
    "    image_transforms = [\n",
    "        vision.Rescale(1.0 / 255.0, 0),\n",
    "        vision.Normalize(mean=(0.1307,), std=(0.3081,)),\n",
    "        vision.HWC2CHW()\n",
    "    ]\n",
    "    label_transform = transforms.TypeCast(mindspore.int32)\n",
    "\n",
    "    dataset = dataset.map(image_transforms, 'image')\n",
    "    dataset = dataset.map(label_transform, 'label')\n",
    "    dataset = dataset.batch(batch_size)\n",
    "    return dataset"
   ]
  },
  {
   "cell_type": "code",
   "execution_count": 7,
   "id": "bb475d1a",
   "metadata": {},
   "outputs": [],
   "source": [
    "# Map vision transforms and batch dataset\n",
    "train_dataset = datapipe(train_dataset, 64)\n",
    "test_dataset = datapipe(test_dataset, 64)"
   ]
  },
  {
   "cell_type": "code",
   "execution_count": 8,
   "id": "ac33ddec",
   "metadata": {},
   "outputs": [
    {
     "name": "stdout",
     "output_type": "stream",
     "text": [
      "Shape of image [N, C, H, W]: (64, 3, 32, 32) Float32\n",
      "Shape of label: (64,) Int32\n"
     ]
    }
   ],
   "source": [
    "for image, label in test_dataset.create_tuple_iterator():\n",
    "    print(f\"Shape of image [N, C, H, W]: {image.shape} {image.dtype}\")\n",
    "    print(f\"Shape of label: {label.shape} {label.dtype}\")\n",
    "    break"
   ]
  },
  {
   "cell_type": "code",
   "execution_count": 9,
   "id": "3583eb9f",
   "metadata": {},
   "outputs": [
    {
     "name": "stdout",
     "output_type": "stream",
     "text": [
      "Shape of image [N, C, H, W]: (64, 3, 32, 32) Float32\n",
      "Shape of label: (64,) Int32\n"
     ]
    }
   ],
   "source": [
    "for data in test_dataset.create_dict_iterator():\n",
    "    print(f\"Shape of image [N, C, H, W]: {data['image'].shape} {data['image'].dtype}\")\n",
    "    print(f\"Shape of label: {data['label'].shape} {data['label'].dtype}\")\n",
    "    break"
   ]
  },
  {
   "cell_type": "code",
   "execution_count": 10,
   "id": "2fb8db47",
   "metadata": {},
   "outputs": [],
   "source": [
    "# Define model\n",
    "class Network(nn.Cell):\n",
    "    def __init__(self, num_class=10, num_channel=3):\n",
    "        super().__init__()\n",
    "        self.sequential = nn.SequentialCell(\n",
    "            nn.Conv2d(num_channel, 64, 3, pad_mode='same'),\n",
    "            nn.ReLU(),\n",
    "            nn.BatchNorm2d(num_features=64),\n",
    "            nn.Conv2d(64, 64, 3, pad_mode='same'),\n",
    "            nn.ReLU(),\n",
    "            nn.BatchNorm2d(num_features=64),\n",
    "            \n",
    "            nn.Conv2d(64, 128, 3, pad_mode='same'),\n",
    "            nn.ReLU(),\n",
    "            nn.BatchNorm2d(num_features=128),\n",
    "            nn.Conv2d(128, 128, 3, pad_mode='same'),\n",
    "            nn.ReLU(),\n",
    "            nn.BatchNorm2d(num_features=128),\n",
    "            nn.MaxPool2d(kernel_size=2, stride=2),\n",
    "            \n",
    "            nn.Conv2d(128, 256, 3, pad_mode='same'),\n",
    "            nn.ReLU(),\n",
    "            nn.BatchNorm2d(num_features=256),\n",
    "            nn.Conv2d(256, 256, 3, pad_mode='same'),\n",
    "            nn.ReLU(),\n",
    "            nn.BatchNorm2d(num_features=256),\n",
    "            nn.Conv2d(256, 256, 3, pad_mode='same'),\n",
    "            nn.ReLU(),\n",
    "            nn.BatchNorm2d(num_features=256),\n",
    "            \n",
    "            nn.Conv2d(256, 512, 3, pad_mode='same'),\n",
    "            nn.ReLU(),\n",
    "            nn.BatchNorm2d(num_features=512),\n",
    "            nn.Conv2d(512, 512, 3, pad_mode='same'),\n",
    "            nn.ReLU(),\n",
    "            nn.BatchNorm2d(num_features=512),\n",
    "            nn.Conv2d(512, 512, 3, pad_mode='same'),\n",
    "            nn.ReLU(),\n",
    "            nn.BatchNorm2d(num_features=512),\n",
    "            nn.MaxPool2d(kernel_size=2, stride=2),\n",
    "            \n",
    "            nn.Conv2d(512, 512, 3, pad_mode='same'),\n",
    "            nn.ReLU(),\n",
    "            nn.BatchNorm2d(num_features=512),\n",
    "            nn.Conv2d(512, 512, 3, pad_mode='same'),\n",
    "            nn.ReLU(),\n",
    "            nn.BatchNorm2d(num_features=512),\n",
    "            nn.Conv2d(512, 512, 3, pad_mode='same'),\n",
    "            nn.ReLU(),\n",
    "            nn.BatchNorm2d(num_features=512),\n",
    "            \n",
    "            nn.Flatten(),\n",
    "            nn.Dense(8*8*512, 4096),\n",
    "            nn.ReLU(),\n",
    "            nn.Dense(4096, 4096),\n",
    "            nn.ReLU(),\n",
    "            nn.Dense(4096, 1000),\n",
    "            nn.Dropout(keep_prob=0.9),\n",
    "            nn.Dense(1000, 10)\n",
    "        )\n",
    "\n",
    "    def construct(self, x):\n",
    "        logits = self.sequential(x)\n",
    "        return logits\n",
    "\n",
    "model = Network(num_class=10)"
   ]
  },
  {
   "cell_type": "code",
   "execution_count": 11,
   "id": "09fae1d0",
   "metadata": {},
   "outputs": [],
   "source": [
    "# Instantiate loss function and optimizer\n",
    "loss_fn = nn.CrossEntropyLoss()\n",
    "# optimizer = nn.SGD(model.trainable_params(), 1e-2)\n",
    "optimizer = nn.Momentum(model.trainable_params(), 1e-2, momentum=0.85)"
   ]
  },
  {
   "cell_type": "code",
   "execution_count": 12,
   "id": "bf9473e7",
   "metadata": {},
   "outputs": [],
   "source": [
    "def train(model, dataset, loss_fn, optimizer):\n",
    "    # Define forward function\n",
    "    def forward_fn(data, label):\n",
    "        logits = model(data)\n",
    "        loss = loss_fn(logits, label)\n",
    "        return loss, logits\n",
    "\n",
    "    # Get gradient function\n",
    "    grad_fn = ops.value_and_grad(forward_fn, None, optimizer.parameters, has_aux=True)\n",
    "\n",
    "    # Define function of one-step training\n",
    "    def train_step(data, label):\n",
    "        (loss, _), grads = grad_fn(data, label)\n",
    "        loss = ops.depend(loss, optimizer(grads))\n",
    "        return loss\n",
    "\n",
    "    size = dataset.get_dataset_size()\n",
    "    model.set_train()\n",
    "    sumloss = 0\n",
    "    for batch, (data, label) in enumerate(dataset.create_tuple_iterator()):\n",
    "        loss = train_step(data, label)\n",
    "        sumloss = sumloss + loss.asnumpy()\n",
    "        if batch % 100 == 0:\n",
    "            loss, current = loss.asnumpy(), batch\n",
    "            print(sumloss)\n",
    "            print(f\"loss: {loss:>7f}  [{current:>3d}/{size:>3d}]\")\n",
    "        if batch == 781:\n",
    "            print(\"avgloss:{}\".format(sumloss/782))"
   ]
  },
  {
   "cell_type": "code",
   "execution_count": 13,
   "id": "13d485ab",
   "metadata": {},
   "outputs": [],
   "source": [
    "def test(model, dataset, loss_fn):\n",
    "    num_batches = dataset.get_dataset_size()\n",
    "    model.set_train(False)\n",
    "    total, test_loss, correct = 0, 0, 0\n",
    "    for data, label in dataset.create_tuple_iterator():\n",
    "        pred = model(data)\n",
    "        total += len(data)\n",
    "        test_loss += loss_fn(pred, label).asnumpy()\n",
    "        correct += (pred.argmax(1) == label).asnumpy().sum()\n",
    "    test_loss /= num_batches\n",
    "    correct /= total\n",
    "    print(f\"Test: \\n Accuracy: {(100*correct):>0.1f}%, Avg loss: {test_loss:>8f} \\n\")"
   ]
  },
  {
   "cell_type": "code",
   "execution_count": null,
   "id": "ac3e5f87",
   "metadata": {},
   "outputs": [
    {
     "name": "stdout",
     "output_type": "stream",
     "text": [
      "Epoch 1\n",
      "-------------------------------\n",
      "2.3229317665100098\n",
      "loss: 2.322932  [  0/782]\n",
      "191.25473988056183\n",
      "loss: 1.586818  [100/782]\n",
      "347.59121000766754\n",
      "loss: 1.616058  [200/782]\n",
      "494.2684851884842\n",
      "loss: 1.422984  [300/782]\n",
      "625.4775899648666\n",
      "loss: 1.494088  [400/782]\n",
      "751.1060481071472\n",
      "loss: 1.030253  [500/782]\n",
      "866.6730900406837\n",
      "loss: 0.921062  [600/782]\n",
      "977.1015055775642\n",
      "loss: 0.837721  [700/782]\n",
      "avgloss:1.355538042036205\n",
      "Test: \n",
      " Accuracy: 63.9%, Avg loss: 1.029226 \n",
      "\n",
      "Epoch 2\n",
      "-------------------------------\n",
      "0.6807944774627686\n",
      "loss: 0.680794  [  0/782]\n",
      "91.86119985580444\n",
      "loss: 0.958165  [100/782]\n",
      "178.889790892601\n",
      "loss: 1.064821  [200/782]\n"
     ]
    }
   ],
   "source": [
    "epochs = 20\n",
    "for t in range(epochs):\n",
    "    print(f\"Epoch {t+1}\\n-------------------------------\")\n",
    "    train(model, train_dataset, loss_fn, optimizer)\n",
    "    test(model, test_dataset, loss_fn)\n",
    "print(\"Done!\")"
   ]
  },
  {
   "cell_type": "code",
   "execution_count": null,
   "id": "0212513b",
   "metadata": {},
   "outputs": [],
   "source": [
    "# Save checkpoint\n",
    "# mindspore.save_checkpoint(model, \"model.ckpt\")\n",
    "# print(\"Saved Model to model.ckpt\")"
   ]
  }
 ],
 "metadata": {
  "kernelspec": {
   "display_name": "mindspore_py37",
   "language": "python",
   "name": "mindspore_py37"
  },
  "language_info": {
   "codemirror_mode": {
    "name": "ipython",
    "version": 3
   },
   "file_extension": ".py",
   "mimetype": "text/x-python",
   "name": "python",
   "nbconvert_exporter": "python",
   "pygments_lexer": "ipython3",
   "version": "3.7.5"
  }
 },
 "nbformat": 4,
 "nbformat_minor": 5
}
